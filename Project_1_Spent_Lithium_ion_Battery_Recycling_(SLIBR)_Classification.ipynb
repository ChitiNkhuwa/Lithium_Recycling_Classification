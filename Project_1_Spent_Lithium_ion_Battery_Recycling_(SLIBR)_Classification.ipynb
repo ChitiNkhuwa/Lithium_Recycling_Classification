{
  "nbformat": 4,
  "nbformat_minor": 0,
  "metadata": {
    "colab": {
      "provenance": [],
      "mount_file_id": "1H0OP-P9ayMneG40cy7Y-Y0S51tT5LRQa",
      "authorship_tag": "ABX9TyP/SZktaXZVShyJitlMKA2H"
    },
    "kernelspec": {
      "name": "python3",
      "display_name": "Python 3"
    },
    "language_info": {
      "name": "python"
    }
  },
  "cells": [
    {
      "cell_type": "markdown",
      "source": [
        "# Convolutional Neural Network"
      ],
      "metadata": {
        "id": "B4k2Rnxu7iss"
      }
    },
    {
      "cell_type": "markdown",
      "source": [
        "### Importing the libraries"
      ],
      "metadata": {
        "id": "PyeQHh1t7WqZ"
      }
    },
    {
      "cell_type": "code",
      "source": [
        "import torch\n",
        "import torchvision\n",
        "import torchvision.transforms as transforms\n",
        "import torch.nn as nn\n",
        "import torch.optim as optim\n",
        "import matplotlib.pyplot as plt"
      ],
      "metadata": {
        "id": "9W4xDmf07pZg"
      },
      "execution_count": null,
      "outputs": []
    },
    {
      "cell_type": "markdown",
      "source": [
        "###  Define data transformations"
      ],
      "metadata": {
        "id": "Ch-e2uhr75LB"
      }
    },
    {
      "cell_type": "code",
      "source": [
        "transform = transforms.Compose([transforms.Resize((64, 64)),\n",
        "                                transforms.ToTensor(),  # Convert images to PyTorch tensors\n",
        "                                transforms.Normalize((0.5, 0.5, 0.5), (0.5, 0.5, 0.5)) ]) # Normalize pixel values"
      ],
      "metadata": {
        "id": "FhM48yvU7985"
      },
      "execution_count": null,
      "outputs": []
    },
    {
      "cell_type": "markdown",
      "source": [
        "## Data Preprocessing"
      ],
      "metadata": {
        "id": "LSGBL41B8b6p"
      }
    },
    {
      "cell_type": "markdown",
      "source": [
        "### Load training and validation data"
      ],
      "metadata": {
        "id": "cUP35_Og8pcs"
      }
    },
    {
      "cell_type": "code",
      "source": [
        "train_set = torchvision.datasets.ImageFolder(root='/content/drive/MyDrive/Colab Notebooks/Projects/Image Classification/Lithium/Training_set', transform=transform)\n",
        "train_loader = torch.utils.data.DataLoader(train_set, batch_size=16, shuffle=True, num_workers=2)\n",
        "\n",
        "val_set = torchvision.datasets.ImageFolder(root='/content/drive/MyDrive/Colab Notebooks/Projects/Image Classification/Lithium/Test_set', transform=transform)\n",
        "val_loader = torch.utils.data.DataLoader(val_set, batch_size=16, shuffle=False, num_workers=2)"
      ],
      "metadata": {
        "id": "a_cTwxcW8g_H"
      },
      "execution_count": null,
      "outputs": []
    },
    {
      "cell_type": "markdown",
      "source": [
        "# Building the CNN"
      ],
      "metadata": {
        "id": "dqh4cxtd9r56"
      }
    },
    {
      "cell_type": "markdown",
      "source": [
        "### Define the CNN model for binary classification"
      ],
      "metadata": {
        "id": "PsrvBnFc93WJ"
      }
    },
    {
      "cell_type": "code",
      "source": [
        "import torch.nn.functional as F"
      ],
      "metadata": {
        "id": "nf92n9-b_Hv0"
      },
      "execution_count": null,
      "outputs": []
    },
    {
      "cell_type": "code",
      "source": [
        "class CNN(nn.Module):\n",
        "    def __init__(self):\n",
        "        super(CNN, self).__init__()\n",
        "        self.conv1 = nn.Conv2d(3, 64, 3, padding=1)\n",
        "        self.conv2 = nn.Conv2d(64, 64, 3, padding=1)\n",
        "        self.pool = nn.MaxPool2d(2, 2)\n",
        "        self.fc1 = nn.Linear(64 * 16 * 16, 128)  # Adjusted input size for the first fully connected layer\n",
        "        self.fc2 = nn.Linear(128, 2)  # 2 classes for binary classification: Anode and Cathode\n",
        "\n",
        "    def forward(self, x):\n",
        "       x = self.pool(F.relu(self.conv1(x)))\n",
        "       x = self.pool(F.relu(self.conv2(x)))\n",
        "       print(\"Size before flattening:\", x.size())  # Print size before flattening\n",
        "       x = x.view(-1, 64 * 16 * 16)  # Adjusted size for flattening\n",
        "       x = F.relu(self.fc1(x))\n",
        "       x = self.fc2(x)\n",
        "       return x\n"
      ],
      "metadata": {
        "id": "Km5GyLHm90LR"
      },
      "execution_count": null,
      "outputs": []
    },
    {
      "cell_type": "markdown",
      "source": [
        "### Instantiate the model, loss function, and optimizer"
      ],
      "metadata": {
        "id": "3Q0uHsyX-UGt"
      }
    },
    {
      "cell_type": "code",
      "source": [
        "model = CNN()\n",
        "criterion = nn.CrossEntropyLoss()\n",
        "optimizer = optim.Adam(model.parameters(), lr=0.001)"
      ],
      "metadata": {
        "id": "NOTs6m4I-YSV"
      },
      "execution_count": null,
      "outputs": []
    },
    {
      "cell_type": "markdown",
      "source": [
        "# Training the CNN"
      ],
      "metadata": {
        "id": "yklSsbA5-jKN"
      }
    },
    {
      "cell_type": "code",
      "source": [
        "# Pass a dummy input through the first convolutional layer\n",
        "conv1_output = model.conv1(torch.randn(1, 3, 64, 64))\n",
        "print(\"Size after conv1:\", conv1_output.size())\n",
        "\n",
        "# Pass a dummy input through the second convolutional layer\n",
        "conv2_output = model.conv2(conv1_output)\n",
        "print(\"Size after conv2:\", conv2_output.size())"
      ],
      "metadata": {
        "colab": {
          "base_uri": "https://localhost:8080/"
        },
        "id": "RsmviEy5_Xw0",
        "outputId": "0f8301fb-aeb0-4293-a5eb-15f6027820d4"
      },
      "execution_count": null,
      "outputs": [
        {
          "output_type": "stream",
          "name": "stdout",
          "text": [
            "Size after conv1: torch.Size([1, 64, 64, 64])\n",
            "Size after conv2: torch.Size([1, 64, 64, 64])\n"
          ]
        }
      ]
    },
    {
      "cell_type": "code",
      "source": [
        "for epoch in range(25):\n",
        "    running_loss = 0.0\n",
        "    for i, data in enumerate(train_loader, 0):\n",
        "        inputs, labels = data\n",
        "        optimizer.zero_grad()\n",
        "        outputs = model(inputs)\n",
        "        loss = criterion(outputs, labels)\n",
        "        loss.backward()\n",
        "        optimizer.step()\n",
        "        running_loss += loss.item()\n",
        "        if i % 100 == 99:    # Print every 100 mini-batches\n",
        "            print('[%d, %5d] loss: %.3f' %\n",
        "                  (epoch + 1, i + 1, running_loss / 100))\n",
        "            running_loss = 0.0\n",
        "\n",
        "print('Finished Training')"
      ],
      "metadata": {
        "id": "ThbENeGc-mGX",
        "collapsed": true
      },
      "execution_count": null,
      "outputs": []
    },
    {
      "cell_type": "code",
      "source": [
        "torch.save(model.state_dict(), 'classification_model.pth')"
      ],
      "metadata": {
        "id": "-I6iEXfn-x49"
      },
      "execution_count": null,
      "outputs": []
    },
    {
      "cell_type": "markdown",
      "source": [
        "# Make Predictions"
      ],
      "metadata": {
        "id": "RJno9SWE-1Ul"
      }
    },
    {
      "cell_type": "code",
      "source": [
        "correct = 0\n",
        "total = 0\n",
        "with torch.no_grad():\n",
        "    for data in val_loader:\n",
        "        images, labels = data\n",
        "        outputs = model(images)\n",
        "        _, predicted = torch.max(outputs.data, 1)\n",
        "        total += labels.size(0)\n",
        "        correct += (predicted == labels).sum().item()\n",
        "\n",
        "print('Accuracy of the network on the validation images: %d %%' % (\n",
        "    100 * correct / total))"
      ],
      "metadata": {
        "colab": {
          "base_uri": "https://localhost:8080/"
        },
        "id": "lFetY-uE-3uu",
        "outputId": "0374d11d-ec4a-4a31-995e-c64a035fae6e"
      },
      "execution_count": null,
      "outputs": [
        {
          "output_type": "stream",
          "name": "stdout",
          "text": [
            "Size before flattening: torch.Size([16, 64, 16, 16])\n",
            "Size before flattening: torch.Size([16, 64, 16, 16])\n",
            "Size before flattening: torch.Size([16, 64, 16, 16])\n",
            "Size before flattening: torch.Size([16, 64, 16, 16])\n",
            "Size before flattening: torch.Size([16, 64, 16, 16])\n",
            "Size before flattening: torch.Size([16, 64, 16, 16])\n",
            "Size before flattening: torch.Size([16, 64, 16, 16])\n",
            "Size before flattening: torch.Size([16, 64, 16, 16])\n",
            "Size before flattening: torch.Size([16, 64, 16, 16])\n",
            "Size before flattening: torch.Size([1, 64, 16, 16])\n",
            "Accuracy of the network on the validation images: 80 %\n"
          ]
        }
      ]
    }
  ]
}